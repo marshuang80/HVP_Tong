{
 "cells": [
  {
   "cell_type": "markdown",
   "metadata": {},
   "source": [
    "# Imports"
   ]
  },
  {
   "cell_type": "code",
   "execution_count": 43,
   "metadata": {},
   "outputs": [],
   "source": [
    "from Bio import SeqIO\n",
    "import csv\n",
    "import math"
   ]
  },
  {
   "cell_type": "markdown",
   "metadata": {},
   "source": [
    "# Define lists"
   ]
  },
  {
   "cell_type": "code",
   "execution_count": 44,
   "metadata": {},
   "outputs": [],
   "source": [
    "results = []\n",
    "indexs = []\n",
    "error_results =[]\n",
    "error_indexs = []\n",
    "sequence = []\n",
    "extras = []\n",
    "amino_acids = []\n",
    "gene_names = []"
   ]
  },
  {
   "cell_type": "markdown",
   "metadata": {},
   "source": [
    "# Read in files"
   ]
  },
  {
   "cell_type": "code",
   "execution_count": 45,
   "metadata": {},
   "outputs": [],
   "source": [
    "for seq_record in SeqIO.parse(\"genomicVs.fasta\", \"fasta\"):\n",
    "    floor = math.floor(len(seq_record.seq)/3)\n",
    "    index = len(seq_record.seq) - (floor*3)\n",
    "    extra\n",
    "    if index != 0:\n",
    "        extra = seq_record.seq[-(index):]\n",
    "        seq_record.seq = seq_record.seq[:-(index)]\n",
    "        \n",
    "    #find the index of last C\n",
    "    anchor_index = str(seq_record.seq.translate().rfind('C')*3)\n",
    "    \n",
    "    #get the amino acids starting from the last C\n",
    "    translated = seq_record.seq.translate()\n",
    "    reverse_index_C = len(translated)-translated.rfind('C')\n",
    "    amino_acid = translated[-(reverse_index_C):]\n",
    "    \n",
    "    #get the gene name\n",
    "    splitted = seq_record.description.split('|')\n",
    "    gene_name = splitted[1]\n",
    "    \n",
    "    #filter out abnormal V genes\n",
    "    threshold = len(seq_record.seq)/2\n",
    "    if int(anchor_index) > threshold:\n",
    "        results.append(seq_record.description)\n",
    "        indexs.append(anchor_index) \n",
    "        extras.append(extra)\n",
    "        amino_acids.append(amino_acid)\n",
    "        gene_names.append(gene_name)\n",
    "    else:\n",
    "        error_indexs.append(anchor_index)\n",
    "        error_results.append(seq_record.description)\n",
    "        sequence.append(seq_record.seq)"
   ]
  },
  {
   "cell_type": "markdown",
   "metadata": {},
   "source": [
    "# Write to anchor file"
   ]
  },
  {
   "cell_type": "code",
   "execution_count": 46,
   "metadata": {},
   "outputs": [],
   "source": [
    "with open('V_gene_CDR3_anchors_test.csv', 'w') as csv_file:\n",
    "    fieldnames = ['gene','anchor_index']\n",
    "    csv_writer = csv.DictWriter(csv_file,fieldnames=fieldnames,delimiter=';')\n",
    "    csv_writer.writeheader()\n",
    "    \n",
    "    for result, index in zip(results, indexs):\n",
    "        csv_writer.writerow({'gene': result, 'anchor_index': index})"
   ]
  },
  {
   "cell_type": "markdown",
   "metadata": {},
   "source": [
    "# Write to error file"
   ]
  },
  {
   "cell_type": "code",
   "execution_count": 47,
   "metadata": {},
   "outputs": [],
   "source": [
    "with open('V_gene_CDR3_anchors_error_test.csv', 'w') as csv_file:\n",
    "    fieldnames = ['gene','sequence','anchor_index']\n",
    "    csv_writer = csv.DictWriter(csv_file,fieldnames=fieldnames,delimiter=';')\n",
    "    csv_writer.writeheader()\n",
    "    \n",
    "    for error_result, seq, error_index in zip(error_results, sequence, error_indexs):\n",
    "        csv_writer.writerow({'gene': error_result, 'sequence':seq,'anchor_index': error_index})"
   ]
  },
  {
   "cell_type": "markdown",
   "metadata": {},
   "source": [
    "# Write to extra nucleotides file"
   ]
  },
  {
   "cell_type": "code",
   "execution_count": 48,
   "metadata": {},
   "outputs": [],
   "source": [
    "with open('V_gene_CDR3_anchors_extra_nucleotides.csv', 'w') as csv_file:\n",
    "    fieldnames = ['gene_name','amino_acids','extra_nucleotides']\n",
    "    csv_writer = csv.DictWriter(csv_file,fieldnames=fieldnames,delimiter=';')\n",
    "    csv_writer.writeheader()\n",
    "    \n",
    "    for gene_name, amino_acid, extra in zip(gene_names, amino_acids, extras):\n",
    "        csv_writer.writerow({'gene_name': gene_name, 'amino_acids':amino_acid,'extra_nucleotides': extra})"
   ]
  },
  {
   "cell_type": "code",
   "execution_count": null,
   "metadata": {},
   "outputs": [],
   "source": []
  }
 ],
 "metadata": {
  "kernelspec": {
   "display_name": "Python 3",
   "language": "python",
   "name": "python3"
  },
  "language_info": {
   "codemirror_mode": {
    "name": "ipython",
    "version": 3
   },
   "file_extension": ".py",
   "mimetype": "text/x-python",
   "name": "python",
   "nbconvert_exporter": "python",
   "pygments_lexer": "ipython3",
   "version": "3.6.4"
  }
 },
 "nbformat": 4,
 "nbformat_minor": 2
}
