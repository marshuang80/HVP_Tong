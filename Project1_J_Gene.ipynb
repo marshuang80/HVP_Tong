{
 "cells": [
  {
   "cell_type": "markdown",
   "metadata": {},
   "source": [
    "# Imports"
   ]
  },
  {
   "cell_type": "code",
   "execution_count": 8,
   "metadata": {},
   "outputs": [],
   "source": [
    "from Bio import SeqIO\n",
    "import csv\n",
    "import math\n",
    "import re\n",
    "import xlwt"
   ]
  },
  {
   "cell_type": "markdown",
   "metadata": {},
   "source": [
    "# Define lists"
   ]
  },
  {
   "cell_type": "code",
   "execution_count": 9,
   "metadata": {},
   "outputs": [],
   "source": [
    "results = []\n",
    "indexs = []\n",
    "error_results =[]\n",
    "error_indexs = []\n",
    "sequence = []\n",
    "extras = []\n",
    "amino_acids = []\n",
    "gene_names = []\n",
    "accessions = []\n",
    "functionalitys = []\n",
    "partials = []\n",
    "genes = []\n",
    "alleles = []"
   ]
  },
  {
   "cell_type": "markdown",
   "metadata": {},
   "source": [
    "# Read in files"
   ]
  },
  {
   "cell_type": "code",
   "execution_count": 10,
   "metadata": {},
   "outputs": [
    {
     "ename": "FileNotFoundError",
     "evalue": "[Errno 2] No such file or directory: 'tcrb_genomicJs.fasta'",
     "output_type": "error",
     "traceback": [
      "\u001b[0;31m---------------------------------------------------------------------------\u001b[0m",
      "\u001b[0;31mFileNotFoundError\u001b[0m                         Traceback (most recent call last)",
      "\u001b[0;32m<ipython-input-10-379b9fdd7c91>\u001b[0m in \u001b[0;36m<module>\u001b[0;34m()\u001b[0m\n\u001b[0;32m----> 1\u001b[0;31m \u001b[0;32mfor\u001b[0m \u001b[0mseq_record\u001b[0m \u001b[0;32min\u001b[0m \u001b[0mSeqIO\u001b[0m\u001b[0;34m.\u001b[0m\u001b[0mparse\u001b[0m\u001b[0;34m(\u001b[0m\u001b[0;34m\"tcrb_genomicJs.fasta\"\u001b[0m\u001b[0;34m,\u001b[0m \u001b[0;34m\"fasta\"\u001b[0m\u001b[0;34m)\u001b[0m\u001b[0;34m:\u001b[0m\u001b[0;34m\u001b[0m\u001b[0m\n\u001b[0m\u001b[1;32m      2\u001b[0m     \u001b[0mind\u001b[0m \u001b[0;34m=\u001b[0m \u001b[0;34m[\u001b[0m\u001b[0;34m]\u001b[0m\u001b[0;34m\u001b[0m\u001b[0m\n\u001b[1;32m      3\u001b[0m     \u001b[0mextra_indexs\u001b[0m \u001b[0;34m=\u001b[0m \u001b[0;34m[\u001b[0m\u001b[0;34m]\u001b[0m\u001b[0;34m\u001b[0m\u001b[0m\n\u001b[1;32m      4\u001b[0m     \u001b[0mthree_amino_acids\u001b[0m \u001b[0;34m=\u001b[0m \u001b[0;34m[\u001b[0m\u001b[0;34m]\u001b[0m\u001b[0;34m\u001b[0m\u001b[0m\n\u001b[1;32m      5\u001b[0m     \u001b[0mreading_frams\u001b[0m \u001b[0;34m=\u001b[0m \u001b[0;34m[\u001b[0m\u001b[0;34m]\u001b[0m\u001b[0;34m\u001b[0m\u001b[0m\n",
      "\u001b[0;32m~/anaconda3/lib/python3.6/site-packages/Bio/SeqIO/__init__.py\u001b[0m in \u001b[0;36mparse\u001b[0;34m(handle, format, alphabet)\u001b[0m\n\u001b[1;32m    590\u001b[0m         \u001b[0;32mraise\u001b[0m \u001b[0mValueError\u001b[0m\u001b[0;34m(\u001b[0m\u001b[0;34m\"Invalid alphabet, %r\"\u001b[0m \u001b[0;34m%\u001b[0m \u001b[0malphabet\u001b[0m\u001b[0;34m)\u001b[0m\u001b[0;34m\u001b[0m\u001b[0m\n\u001b[1;32m    591\u001b[0m \u001b[0;34m\u001b[0m\u001b[0m\n\u001b[0;32m--> 592\u001b[0;31m     \u001b[0;32mwith\u001b[0m \u001b[0mas_handle\u001b[0m\u001b[0;34m(\u001b[0m\u001b[0mhandle\u001b[0m\u001b[0;34m,\u001b[0m \u001b[0mmode\u001b[0m\u001b[0;34m)\u001b[0m \u001b[0;32mas\u001b[0m \u001b[0mfp\u001b[0m\u001b[0;34m:\u001b[0m\u001b[0;34m\u001b[0m\u001b[0m\n\u001b[0m\u001b[1;32m    593\u001b[0m         \u001b[0;31m# Map the file format to a sequence iterator:\u001b[0m\u001b[0;34m\u001b[0m\u001b[0;34m\u001b[0m\u001b[0m\n\u001b[1;32m    594\u001b[0m         \u001b[0;32mif\u001b[0m \u001b[0mformat\u001b[0m \u001b[0;32min\u001b[0m \u001b[0m_FormatToIterator\u001b[0m\u001b[0;34m:\u001b[0m\u001b[0;34m\u001b[0m\u001b[0m\n",
      "\u001b[0;32m~/anaconda3/lib/python3.6/contextlib.py\u001b[0m in \u001b[0;36m__enter__\u001b[0;34m(self)\u001b[0m\n\u001b[1;32m     79\u001b[0m     \u001b[0;32mdef\u001b[0m \u001b[0m__enter__\u001b[0m\u001b[0;34m(\u001b[0m\u001b[0mself\u001b[0m\u001b[0;34m)\u001b[0m\u001b[0;34m:\u001b[0m\u001b[0;34m\u001b[0m\u001b[0m\n\u001b[1;32m     80\u001b[0m         \u001b[0;32mtry\u001b[0m\u001b[0;34m:\u001b[0m\u001b[0;34m\u001b[0m\u001b[0m\n\u001b[0;32m---> 81\u001b[0;31m             \u001b[0;32mreturn\u001b[0m \u001b[0mnext\u001b[0m\u001b[0;34m(\u001b[0m\u001b[0mself\u001b[0m\u001b[0;34m.\u001b[0m\u001b[0mgen\u001b[0m\u001b[0;34m)\u001b[0m\u001b[0;34m\u001b[0m\u001b[0m\n\u001b[0m\u001b[1;32m     82\u001b[0m         \u001b[0;32mexcept\u001b[0m \u001b[0mStopIteration\u001b[0m\u001b[0;34m:\u001b[0m\u001b[0;34m\u001b[0m\u001b[0m\n\u001b[1;32m     83\u001b[0m             \u001b[0;32mraise\u001b[0m \u001b[0mRuntimeError\u001b[0m\u001b[0;34m(\u001b[0m\u001b[0;34m\"generator didn't yield\"\u001b[0m\u001b[0;34m)\u001b[0m \u001b[0;32mfrom\u001b[0m \u001b[0;32mNone\u001b[0m\u001b[0;34m\u001b[0m\u001b[0m\n",
      "\u001b[0;32m~/anaconda3/lib/python3.6/site-packages/Bio/File.py\u001b[0m in \u001b[0;36mas_handle\u001b[0;34m(handleish, mode, **kwargs)\u001b[0m\n\u001b[1;32m     85\u001b[0m                 \u001b[0;32myield\u001b[0m \u001b[0mfp\u001b[0m\u001b[0;34m\u001b[0m\u001b[0m\n\u001b[1;32m     86\u001b[0m         \u001b[0;32melse\u001b[0m\u001b[0;34m:\u001b[0m\u001b[0;34m\u001b[0m\u001b[0m\n\u001b[0;32m---> 87\u001b[0;31m             \u001b[0;32mwith\u001b[0m \u001b[0mopen\u001b[0m\u001b[0;34m(\u001b[0m\u001b[0mhandleish\u001b[0m\u001b[0;34m,\u001b[0m \u001b[0mmode\u001b[0m\u001b[0;34m,\u001b[0m \u001b[0;34m**\u001b[0m\u001b[0mkwargs\u001b[0m\u001b[0;34m)\u001b[0m \u001b[0;32mas\u001b[0m \u001b[0mfp\u001b[0m\u001b[0;34m:\u001b[0m\u001b[0;34m\u001b[0m\u001b[0m\n\u001b[0m\u001b[1;32m     88\u001b[0m                 \u001b[0;32myield\u001b[0m \u001b[0mfp\u001b[0m\u001b[0;34m\u001b[0m\u001b[0m\n\u001b[1;32m     89\u001b[0m     \u001b[0;32melse\u001b[0m\u001b[0;34m:\u001b[0m\u001b[0;34m\u001b[0m\u001b[0m\n",
      "\u001b[0;31mFileNotFoundError\u001b[0m: [Errno 2] No such file or directory: 'tcrb_genomicJs.fasta'"
     ]
    }
   ],
   "source": [
    "for seq_record in SeqIO.parse(\"tcrb_genomicJs.fasta\", \"fasta\"):   \n",
    "    ind = []\n",
    "    extra_indexs = []\n",
    "    three_amino_acids = []\n",
    "    reading_frams = []\n",
    "    # try out 3 different frames\n",
    "    for i in range(3):\n",
    "        \n",
    "        # split record to match triplets\n",
    "        seq_record_temp = seq_record.seq[i:]\n",
    "        floor = math.floor(len(seq_record_temp)/3)\n",
    "        index = len(seq_record_temp) - (floor*3)\n",
    "        extra_indexs.append(index)\n",
    "        if index != 0:\n",
    "            seq_record_temp = seq_record_temp[:-(index)]\n",
    "            \n",
    "        # translating from dna to amino acid and find first (F/W)GXG(S/T)\n",
    "        translated_seq = seq_record_temp.translate()\n",
    "        three_amino_acids.append (translated_seq)\n",
    "        position = -1\n",
    "        m = re.search('[FW]G.?G[ST]', str(translated_seq))\n",
    "        if m:\n",
    "            position = m.start()\n",
    "        index_F = ((position*3)+i)\n",
    "        ind.append(index_F)\n",
    "        reading_frams.append(i)\n",
    "        \n",
    "    #get the gene name\n",
    "    if \"|\" not in seq_record.description: \n",
    "        gene_name = seq_record.description\n",
    "        splitted_gene_name = gene_name.split('*')\n",
    "        gene = splitted_gene_name[0]\n",
    "        allele = splittedsplitted_gene_name[1]\n",
    "        allele = allele[2]\n",
    "        print(allele)\n",
    "        accession = \"\"\n",
    "        functionality = \"\"\n",
    "        partial = \"\"\n",
    "    else:\n",
    "        splitted = seq_record.description.split('|')\n",
    "        gene_name = splitted[1]\n",
    "        splitted_gene_name = gene_name.split('*')\n",
    "        gene = splitted_gene_name[0]\n",
    "        allele = splitted_gene_name[1][1]\n",
    "    \n",
    "        print(allele)\n",
    "        accession = splitted[0]\n",
    "        functionality = splitted[3]\n",
    "        partial = splitted[13]\n",
    "    \n",
    "    #look for only positive indexes\n",
    "    pos_idx = [i for i in ind if i >=0]\n",
    "    \n",
    "    if len(pos_idx) != 0:\n",
    "            pos_idx = min(pos_idx)\n",
    "            \n",
    "            #get the reading frame\n",
    "            reading_frame_index = ind.index(pos_idx)\n",
    "            reading_frame = reading_frame_index + 1\n",
    "            \n",
    "            #get the amino_acids with the correct reading frame\n",
    "            amino_acid = three_amino_acids[reading_frame-1]\n",
    "            \n",
    "            # get the amino acids from the beginning to the first F \n",
    "            amino_acid_index = int((pos_idx-reading_frame+1)/3)+1\n",
    "            amino_acid = amino_acid[0:amino_acid_index]\n",
    "            \n",
    "            pos_idx = str(pos_idx)\n",
    "            \n",
    "            indexs.append(pos_idx)\n",
    "            results.append(seq_record.description)\n",
    "            \n",
    "            # get the extras \n",
    "            extra = str(seq_record.seq[0:reading_frame-1])\n",
    "            \n",
    "            extras.append(extra)\n",
    "            amino_acids.append(amino_acid)\n",
    "            gene_names.append(gene_name)\n",
    "            accessions.append(accession)\n",
    "            functionalitys.append(functionality)\n",
    "            partials.append(partial) \n",
    "            genes.append(gene)\n",
    "            alleles.append(allele)\n",
    "                   \n",
    "    else:\n",
    "            error_indexs.append(str(0))\n",
    "            error_results.append(seq_record.description)\n",
    "            sequence.append(seq_record.seq)\n",
    "            \n",
    "\n"
   ]
  },
  {
   "cell_type": "markdown",
   "metadata": {},
   "source": [
    "# write to file"
   ]
  },
  {
   "cell_type": "code",
   "execution_count": 4,
   "metadata": {},
   "outputs": [],
   "source": [
    "with open('J_gene_CDR3_anchors_test.csv', 'w') as csv_file:\n",
    "    fieldnames = ['gene','anchor_index']\n",
    "    csv_writer = csv.DictWriter(csv_file,fieldnames=fieldnames,delimiter=';')\n",
    "    csv_writer.writeheader()\n",
    "    \n",
    "    for result, index in zip(results, indexs):\n",
    "        csv_writer.writerow({'gene': result, 'anchor_index': index})"
   ]
  },
  {
   "cell_type": "markdown",
   "metadata": {},
   "source": [
    "# write to error file"
   ]
  },
  {
   "cell_type": "code",
   "execution_count": 5,
   "metadata": {},
   "outputs": [],
   "source": [
    "with open('J_gene_CDR3_anchors_test_error', 'w') as csv_file:\n",
    "        fieldnames = ['gene','sequence','anchor_index']\n",
    "        csv_writer = csv.DictWriter(csv_file,fieldnames=fieldnames,delimiter=';')\n",
    "        csv_writer.writeheader()\n",
    "\n",
    "        for error_result, seq, error_index in zip(error_results, sequence, error_indexs):\n",
    "            csv_writer.writerow({'gene': error_result, 'sequence':seq,'anchor_index': error_index})"
   ]
  },
  {
   "cell_type": "markdown",
   "metadata": {},
   "source": [
    "# write to extra nucleotides file"
   ]
  },
  {
   "cell_type": "code",
   "execution_count": 6,
   "metadata": {},
   "outputs": [],
   "source": [
    "with open('J_gene_CDR3_anchors_extra_nucleotides.csv', 'w') as csv_file:\n",
    "    fieldnames = ['gene_name','extra_nucleotides','amino_acids','accession','functionality','partial']\n",
    "    csv_writer = csv.DictWriter(csv_file,fieldnames=fieldnames,delimiter=';')\n",
    "    csv_writer.writeheader()\n",
    "    \n",
    "    for gene_name, extra, amino_acid, accession, functionality, partial in zip(gene_names,extras,amino_acids,accessions,functionalitys,partials):\n",
    "        csv_writer.writerow({'gene_name': gene_name,'extra_nucleotides': extra,'amino_acids':amino_acid,'accession':accession,'functionality':functionality,'partial':partial })"
   ]
  },
  {
   "cell_type": "markdown",
   "metadata": {},
   "source": [
    "# write to excel sheet "
   ]
  },
  {
   "cell_type": "code",
   "execution_count": 7,
   "metadata": {},
   "outputs": [],
   "source": [
    "#run with python excelScript.py\n",
    "book = xlwt.Workbook()\n",
    "sheet = book.add_sheet('Sheet 1')\n",
    "    \n",
    "# sheet.write(r, c, <text>)\n",
    "# sheet.write(0, 0, 'sample')\n",
    "\n",
    "header = ['gene','allele','extra_nucleotides','amino_acids','accession','functionality','partial']\n",
    "\n",
    "for column, heading in enumerate(header):\n",
    "    sheet.write(0, column, heading)\n",
    "\n",
    "for row, gene in enumerate(genes):\n",
    "    sheet.write(row+1, 0, str(gene))\n",
    "\n",
    "for row, allele in enumerate(alleles):\n",
    "    sheet.write(row+1, 1, str(allele))\n",
    "    \n",
    "for row, extra_nucleotides in enumerate(extras):\n",
    "    sheet.write(row+1, 2, extra_nucleotides)\n",
    "    \n",
    "#partials\n",
    "\n",
    "for row, amino in enumerate(amino_acids):\n",
    "    sheet.write(row+1, 3, str(amino))\n",
    "    \n",
    "for row, accession in enumerate(accessions):\n",
    "    sheet.write(row+1, 4, str(accession))\n",
    "    \n",
    "for row, functionality in enumerate(functionalitys):\n",
    "    sheet.write(row+1, 5, str(functionality))\n",
    "    \n",
    "for row, partial in enumerate(partials):\n",
    "    sheet.write(row+1, 6, partial)\n",
    "    \n",
    "sheet = book.add_sheet('Sheet 2')\n",
    "\n",
    "header = ['gene','allele','extra_nucleotides','amino_acids','accession','functionality','partial']\n",
    "\n",
    "for column, heading in enumerate(header):\n",
    "    sheet.write(0, column, heading)\n",
    "\n",
    "book.save('Sample.xls')\n"
   ]
  },
  {
   "cell_type": "code",
   "execution_count": null,
   "metadata": {},
   "outputs": [],
   "source": []
  },
  {
   "cell_type": "code",
   "execution_count": null,
   "metadata": {},
   "outputs": [],
   "source": []
  }
 ],
 "metadata": {
  "kernelspec": {
   "display_name": "Python 3",
   "language": "python",
   "name": "python3"
  },
  "language_info": {
   "codemirror_mode": {
    "name": "ipython",
    "version": 3
   },
   "file_extension": ".py",
   "mimetype": "text/x-python",
   "name": "python",
   "nbconvert_exporter": "python",
   "pygments_lexer": "ipython3",
   "version": "3.6.4"
  }
 },
 "nbformat": 4,
 "nbformat_minor": 2
}
