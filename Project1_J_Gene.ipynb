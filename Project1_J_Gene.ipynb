{
 "cells": [
  {
   "cell_type": "markdown",
   "metadata": {},
   "source": [
    "#Imports"
   ]
  },
  {
   "cell_type": "code",
   "execution_count": 46,
   "metadata": {},
   "outputs": [],
   "source": [
    "from Bio import SeqIO\n",
    "import csv\n",
    "import math"
   ]
  },
  {
   "cell_type": "markdown",
   "metadata": {},
   "source": [
    "#Define lists"
   ]
  },
  {
   "cell_type": "code",
   "execution_count": 66,
   "metadata": {},
   "outputs": [],
   "source": [
    "results = []\n",
    "indexs = []"
   ]
  },
  {
   "cell_type": "code",
   "execution_count": 67,
   "metadata": {},
   "outputs": [],
   "source": [
    "#Read in files"
   ]
  },
  {
   "cell_type": "code",
   "execution_count": 68,
   "metadata": {},
   "outputs": [
    {
     "name": "stdout",
     "output_type": "stream",
     "text": [
      "K02545|TRBJ1-1*01|Homo sapiens|F|J-REGION|749..796|48 nt|3| | | | |48+0=48| | |\n",
      "17\n",
      "K02545|TRBJ1-2*01|Homo sapiens|F|J-REGION|886..933|48 nt|3| | | | |48+0=48| | |\n",
      "17\n",
      "M14158|TRBJ1-3*01|Homo sapiens|F|J-REGION|1499..1548|50 nt|2| | | | |50+0=50| | |\n",
      "19\n",
      "M14158|TRBJ1-4*01|Homo sapiens|F|J-REGION|2095..2145|51 nt|3| | | | |51+0=51| | |\n",
      "20\n",
      "M14158|TRBJ1-5*01|Homo sapiens|F|J-REGION|2368..2417|50 nt|2| | | | |50+0=50| | |\n",
      "19\n",
      "M14158|TRBJ1-6*01|Homo sapiens|F|J-REGION|2859..2911|53 nt|2| | | | |53+0=53| | |\n",
      "22\n",
      "L36092|TRBJ1-6*02|Homo sapiens|F|J-REGION|643043..643095|53 nt|2| | | | |53+0=53| | |\n",
      "22\n",
      "X02987|TRBJ2-1*01|Homo sapiens|F|J-REGION|800..849|50 nt|2| | | | |50+0=50| | |\n",
      "19\n",
      "X02987|TRBJ2-2*01|Homo sapiens|F|J-REGION|995..1045|51 nt|3| | | | |51+0=51| | |\n",
      "20\n",
      "X02987|TRBJ2-3*01|Homo sapiens|F|J-REGION|1282..1330|49 nt|1| | | | |49+0=49| | |\n",
      "18\n",
      "X02987|TRBJ2-4*01|Homo sapiens|F|J-REGION|1432..1481|50 nt|2| | | | |50+0=50| | |\n",
      "19\n",
      "X02987|TRBJ2-5*01|Homo sapiens|F|J-REGION|1553..1600|48 nt|3| | | | |48+0=48| | |\n",
      "17\n",
      "X02987|TRBJ2-6*01|Homo sapiens|F|J-REGION|1673..1725|53 nt|2| | | | |53+0=53| | |\n",
      "22\n",
      "M14159|TRBJ2-7*01|Homo sapiens|F|J-REGION|2316..2362|47 nt|2| | | | |47+0=47| | |\n",
      "16\n",
      "X02987|TRBJ2-7*02|Homo sapiens|ORF|J-REGION|1890..1936|47 nt|2| | | | |47+0=47| | |\n",
      "0\n"
     ]
    }
   ],
   "source": [
    "for seq_record in SeqIO.parse(\"genomicJs.fasta\", \"fasta\"):\n",
    "    results.append(seq_record.description)\n",
    "    print (seq_record.description)\n",
    "    ind = []\n",
    "    for i in range(3):\n",
    "        seq_record_temp = seq_record.seq[i:]\n",
    "        floor = math.floor(len(seq_record_temp)/3)\n",
    "        index = len(seq_record_temp) - (floor*3)\n",
    "        seq_record_temp = seq_record_temp[:-(index)]\n",
    "        traslated_seq = seq_record_temp.translate()\n",
    "        index_F = ((seq_record_temp.translate().find('FG')*3)+i)\n",
    "        ind.append(index_F)\n",
    "    pos_idx = [i for i in ind if i >=0]\n",
    "    if len(pos_idx) != 0:\n",
    "        indexs.append(str(min(pos_idx)))\n",
    "        print(indexs[-1])\n",
    "    else:\n",
    "        indexs.append(str(0))\n",
    "        print(indexs[-1])"
   ]
  },
  {
   "cell_type": "code",
   "execution_count": null,
   "metadata": {},
   "outputs": [],
   "source": [
    "#write to file"
   ]
  },
  {
   "cell_type": "code",
   "execution_count": 70,
   "metadata": {},
   "outputs": [],
   "source": [
    "with open('J_gene_CDR3_anchors_test.csv', 'w') as csv_file:\n",
    "    fieldnames = ['gene','anchor_index']\n",
    "    csv_writer = csv.DictWriter(csv_file,fieldnames=fieldnames,delimiter=';')\n",
    "    csv_writer.writeheader()\n",
    "    \n",
    "    for result, index in zip(results, indexs):\n",
    "        csv_writer.writerow({'gene': result, 'anchor_index': index})"
   ]
  },
  {
   "cell_type": "code",
   "execution_count": 69,
   "metadata": {},
   "outputs": [
    {
     "data": {
      "text/plain": [
       "['17',\n",
       " '17',\n",
       " '19',\n",
       " '20',\n",
       " '19',\n",
       " '22',\n",
       " '22',\n",
       " '19',\n",
       " '20',\n",
       " '18',\n",
       " '19',\n",
       " '17',\n",
       " '22',\n",
       " '16',\n",
       " '0']"
      ]
     },
     "execution_count": 69,
     "metadata": {},
     "output_type": "execute_result"
    }
   ],
   "source": [
    "indexs"
   ]
  },
  {
   "cell_type": "code",
   "execution_count": null,
   "metadata": {},
   "outputs": [],
   "source": []
  }
 ],
 "metadata": {
  "kernelspec": {
   "display_name": "Python 3",
   "language": "python",
   "name": "python3"
  },
  "language_info": {
   "codemirror_mode": {
    "name": "ipython",
    "version": 3
   },
   "file_extension": ".py",
   "mimetype": "text/x-python",
   "name": "python",
   "nbconvert_exporter": "python",
   "pygments_lexer": "ipython3",
   "version": "3.6.4"
  }
 },
 "nbformat": 4,
 "nbformat_minor": 2
}
