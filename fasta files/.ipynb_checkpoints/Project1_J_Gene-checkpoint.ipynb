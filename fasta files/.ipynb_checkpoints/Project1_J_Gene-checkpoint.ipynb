{
 "cells": [
  {
   "cell_type": "markdown",
   "metadata": {},
   "source": [
    "# Imports"
   ]
  },
  {
   "cell_type": "code",
   "execution_count": 4,
   "metadata": {},
   "outputs": [],
   "source": [
    "from Bio import SeqIO\n",
    "import csv\n",
    "import math\n",
    "import re\n",
    "import xlwt"
   ]
  },
  {
   "cell_type": "markdown",
   "metadata": {},
   "source": [
    "# Define lists"
   ]
  },
  {
   "cell_type": "code",
   "execution_count": 5,
   "metadata": {},
   "outputs": [],
   "source": [
    "results = []\n",
    "indexs = []\n",
    "error_results =[]\n",
    "error_indexs = []\n",
    "sequence = []\n",
    "extras = []\n",
    "amino_acids = []\n",
    "gene_names = []\n",
    "accessions = []\n",
    "functionalitys = []\n",
    "partials = []\n",
    "genes = []\n",
    "alleles = []"
   ]
  },
  {
   "cell_type": "markdown",
   "metadata": {},
   "source": [
    "# Read in files"
   ]
  },
  {
   "cell_type": "code",
   "execution_count": 6,
   "metadata": {},
   "outputs": [
    {
     "name": "stdout",
     "output_type": "stream",
     "text": [
      "1\n",
      "1\n",
      "1\n",
      "1\n",
      "1\n",
      "1\n",
      "2\n",
      "1\n",
      "1\n",
      "1\n",
      "1\n",
      "1\n",
      "1\n",
      "1\n",
      "2\n"
     ]
    }
   ],
   "source": [
    "for seq_record in SeqIO.parse(\"tcrb_genomicJs.fasta\", \"fasta\"):   \n",
    "    ind = []\n",
    "    extra_indexs = []\n",
    "    three_amino_acids = []\n",
    "    reading_frams = []\n",
    "    # try out 3 different frames\n",
    "    for i in range(3):\n",
    "        \n",
    "        # split record to match triplets\n",
    "        seq_record_temp = seq_record.seq[i:]\n",
    "        floor = math.floor(len(seq_record_temp)/3)\n",
    "        index = len(seq_record_temp) - (floor*3)\n",
    "        extra_indexs.append(index)\n",
    "        if index != 0:\n",
    "            seq_record_temp = seq_record_temp[:-(index)]\n",
    "            \n",
    "        # translating from dna to amino acid and find first (F/W)GXG(S/T)\n",
    "        translated_seq = seq_record_temp.translate()\n",
    "        three_amino_acids.append (translated_seq)\n",
    "        position = -1\n",
    "        m = re.search('[FW]G.?G[ST]', str(translated_seq))\n",
    "        if m:\n",
    "            position = m.start()\n",
    "        index_F = ((position*3)+i)\n",
    "        ind.append(index_F)\n",
    "        reading_frams.append(i)\n",
    "        \n",
    "    #get the gene name\n",
    "    if \"|\" not in seq_record.description: \n",
    "        gene_name = seq_record.description\n",
    "        splitted_gene_name = gene_name.split('*')\n",
    "        gene = splitted_gene_name[0]\n",
    "        allele = splittedsplitted_gene_name[1]\n",
    "        allele = allele[2]\n",
    "        print(allele)\n",
    "        accession = \"\"\n",
    "        functionality = \"\"\n",
    "        partial = \"\"\n",
    "    else:\n",
    "        splitted = seq_record.description.split('|')\n",
    "        gene_name = splitted[1]\n",
    "        splitted_gene_name = gene_name.split('*')\n",
    "        gene = splitted_gene_name[0]\n",
    "        allele = splitted_gene_name[1]\n",
    "        allele = allele[1]\n",
    "        print(allele)\n",
    "        accession = splitted[0]\n",
    "        functionality = splitted[3]\n",
    "        partial = splitted[13]\n",
    "    \n",
    "    #look for only positive indexes\n",
    "    pos_idx = [i for i in ind if i >=0]\n",
    "    \n",
    "    if len(pos_idx) != 0:\n",
    "            pos_idx = min(pos_idx)\n",
    "            \n",
    "            #get the reading frame\n",
    "            reading_frame_index = ind.index(pos_idx)\n",
    "            reading_frame = reading_frame_index + 1\n",
    "            \n",
    "            #get the amino_acids with the correct reading frame\n",
    "            amino_acid = three_amino_acids[reading_frame-1]\n",
    "            \n",
    "            # get the amino acids from the beginning to the first F \n",
    "            amino_acid_index = int((pos_idx-reading_frame+1)/3)+1\n",
    "            amino_acid = amino_acid[0:amino_acid_index]\n",
    "            \n",
    "            pos_idx = str(pos_idx)\n",
    "            \n",
    "            indexs.append(pos_idx)\n",
    "            results.append(seq_record.description)\n",
    "            \n",
    "            # get the extras \n",
    "            extra = str(seq_record.seq[0:reading_frame-1])\n",
    "            \n",
    "            extras.append(extra)\n",
    "            amino_acids.append(amino_acid)\n",
    "            gene_names.append(gene_name)\n",
    "            accessions.append(accession)\n",
    "            functionalitys.append(functionality)\n",
    "            partials.append(partial) \n",
    "            genes.append(gene)\n",
    "            alleles.append(allele)\n",
    "                   \n",
    "    else:\n",
    "            error_indexs.append(str(0))\n",
    "            error_results.append(seq_record.description)\n",
    "            sequence.append(seq_record.seq)\n",
    "            \n",
    "\n"
   ]
  },
  {
   "cell_type": "markdown",
   "metadata": {},
   "source": [
    "# write to file"
   ]
  },
  {
   "cell_type": "code",
   "execution_count": 111,
   "metadata": {},
   "outputs": [],
   "source": [
    "with open('J_gene_CDR3_anchors_test.csv', 'w') as csv_file:\n",
    "    fieldnames = ['gene','anchor_index']\n",
    "    csv_writer = csv.DictWriter(csv_file,fieldnames=fieldnames,delimiter=';')\n",
    "    csv_writer.writeheader()\n",
    "    \n",
    "    for result, index in zip(results, indexs):\n",
    "        csv_writer.writerow({'gene': result, 'anchor_index': index})"
   ]
  },
  {
   "cell_type": "markdown",
   "metadata": {},
   "source": [
    "# write to error file"
   ]
  },
  {
   "cell_type": "code",
   "execution_count": 112,
   "metadata": {},
   "outputs": [],
   "source": [
    "with open('J_gene_CDR3_anchors_test_error', 'w') as csv_file:\n",
    "        fieldnames = ['gene','sequence','anchor_index']\n",
    "        csv_writer = csv.DictWriter(csv_file,fieldnames=fieldnames,delimiter=';')\n",
    "        csv_writer.writeheader()\n",
    "\n",
    "        for error_result, seq, error_index in zip(error_results, sequence, error_indexs):\n",
    "            csv_writer.writerow({'gene': error_result, 'sequence':seq,'anchor_index': error_index})"
   ]
  },
  {
   "cell_type": "markdown",
   "metadata": {},
   "source": [
    "# write to extra nucleotides file"
   ]
  },
  {
   "cell_type": "code",
   "execution_count": 113,
   "metadata": {},
   "outputs": [],
   "source": [
    "with open('J_gene_CDR3_anchors_extra_nucleotides.csv', 'w') as csv_file:\n",
    "    fieldnames = ['gene_name','extra_nucleotides','amino_acids','accession','functionality','partial']\n",
    "    csv_writer = csv.DictWriter(csv_file,fieldnames=fieldnames,delimiter=';')\n",
    "    csv_writer.writeheader()\n",
    "    \n",
    "    for gene_name, extra, amino_acid, accession, functionality, partial in zip(gene_names,extras,amino_acids,accessions,functionalitys,partials):\n",
    "        csv_writer.writerow({'gene_name': gene_name,'extra_nucleotides': extra,'amino_acids':amino_acid,'accession':accession,'functionality':functionality,'partial':partial })"
   ]
  },
  {
   "cell_type": "markdown",
   "metadata": {},
   "source": [
    "# write to excel sheet "
   ]
  },
  {
   "cell_type": "code",
   "execution_count": 118,
   "metadata": {},
   "outputs": [],
   "source": [
    "#run with python excelScript.py\n",
    "book = xlwt.Workbook()\n",
    "sheet = book.add_sheet('Sheet 1')\n",
    "    \n",
    "# sheet.write(r, c, <text>)\n",
    "# sheet.write(0, 0, 'sample')\n",
    "\n",
    "header = ['gene','allele','extra_nucleotides','amino_acids','accession','functionality','partial']\n",
    "\n",
    "for column, heading in enumerate(header):\n",
    "    sheet.write(0, column, heading)\n",
    "\n",
    "for row, gene in enumerate(genes):\n",
    "    sheet.write(row+1, 0, str(gene))\n",
    "\n",
    "for row, allele in enumerate(alleles):\n",
    "    sheet.write(row+1, 1, str(allele))\n",
    "    \n",
    "for row, extra_nucleotides in enumerate(extras):\n",
    "    sheet.write(row+1, 2, extra_nucleotides)\n",
    "    \n",
    "#partials\n",
    "\n",
    "for row, amino in enumerate(amino_acids):\n",
    "    sheet.write(row+1, 3, str(amino))\n",
    "    \n",
    "for row, accession in enumerate(accessions):\n",
    "    sheet.write(row+1, 4, str(accession))\n",
    "    \n",
    "for row, functionality in enumerate(functionalitys):\n",
    "    sheet.write(row+1, 5, str(functionality))\n",
    "    \n",
    "for row, partial in enumerate(partials):\n",
    "    sheet.write(row+1, 6, partial)\n",
    "    \n",
    "sheet = book.add_sheet('Sheet 2')\n",
    "\n",
    "header = ['gene','allele','extra_nucleotides','amino_acids','accession','functionality','partial']\n",
    "\n",
    "for column, heading in enumerate(header):\n",
    "    sheet.write(0, column, heading)\n",
    "\n",
    "book.save('Sample.xls')\n"
   ]
  },
  {
   "cell_type": "code",
   "execution_count": null,
   "metadata": {},
   "outputs": [],
   "source": []
  },
  {
   "cell_type": "code",
   "execution_count": null,
   "metadata": {},
   "outputs": [],
   "source": []
  }
 ],
 "metadata": {
  "kernelspec": {
   "display_name": "Python 3",
   "language": "python",
   "name": "python3"
  },
  "language_info": {
   "codemirror_mode": {
    "name": "ipython",
    "version": 3
   },
   "file_extension": ".py",
   "mimetype": "text/x-python",
   "name": "python",
   "nbconvert_exporter": "python",
   "pygments_lexer": "ipython3",
   "version": "3.6.4"
  }
 },
 "nbformat": 4,
 "nbformat_minor": 2
}
