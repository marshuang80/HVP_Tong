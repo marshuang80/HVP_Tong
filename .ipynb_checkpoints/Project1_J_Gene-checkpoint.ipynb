{
 "cells": [
  {
   "cell_type": "markdown",
   "metadata": {},
   "source": [
    "#Imports"
   ]
  },
  {
   "cell_type": "code",
   "execution_count": 1,
   "metadata": {},
   "outputs": [],
   "source": [
    "from Bio import SeqIO\n",
    "import csv\n",
    "import math"
   ]
  },
  {
   "cell_type": "markdown",
   "metadata": {},
   "source": [
    "#Define lists"
   ]
  },
  {
   "cell_type": "code",
   "execution_count": 2,
   "metadata": {},
   "outputs": [],
   "source": [
    "results = []\n",
    "indexs = []"
   ]
  },
  {
   "cell_type": "code",
   "execution_count": 3,
   "metadata": {},
   "outputs": [],
   "source": [
    "#Read in files"
   ]
  },
  {
   "cell_type": "code",
   "execution_count": 4,
   "metadata": {},
   "outputs": [],
   "source": [
    "for seq_record in SeqIO.parse(\"genomicJs.fasta\", \"fasta\"):\n",
    "    results.append(seq_record.description)\n",
    "    ind = []\n",
    "    for i in range(3):\n",
    "        seq_record_temp = seq_record.seq[i:]\n",
    "        floor = math.floor(len(seq_record_temp)/3)\n",
    "        index = len(seq_record_temp) - (floor*3)\n",
    "        seq_record_temp = seq_record_temp[:-(index)]\n",
    "        traslated_seq = seq_record_temp.translate()\n",
    "        index_F = ((seq_record_temp.translate().find('FG')*3)+i)\n",
    "        ind.append(index_F)\n",
    "    pos_idx = [i for i in ind if i >=0]\n",
    "    if len(pos_idx) != 0:\n",
    "        indexs.append(str(min(pos_idx)))\n",
    "    else:\n",
    "        indexs.append(str(0))"
   ]
  },
  {
   "cell_type": "code",
   "execution_count": null,
   "metadata": {},
   "outputs": [],
   "source": [
    "#write to file"
   ]
  },
  {
   "cell_type": "code",
   "execution_count": 70,
   "metadata": {},
   "outputs": [],
   "source": [
    "with open('J_gene_CDR3_anchors_test.csv', 'w') as csv_file:\n",
    "    fieldnames = ['gene','anchor_index']\n",
    "    csv_writer = csv.DictWriter(csv_file,fieldnames=fieldnames,delimiter=';')\n",
    "    csv_writer.writeheader()\n",
    "    \n",
    "    for result, index in zip(results, indexs):\n",
    "        csv_writer.writerow({'gene': result, 'anchor_index': index})"
   ]
  }
 ],
 "metadata": {
  "kernelspec": {
   "display_name": "Python 3",
   "language": "python",
   "name": "python3"
  },
  "language_info": {
   "codemirror_mode": {
    "name": "ipython",
    "version": 3
   },
   "file_extension": ".py",
   "mimetype": "text/x-python",
   "name": "python",
   "nbconvert_exporter": "python",
   "pygments_lexer": "ipython3",
   "version": "3.6.4"
  }
 },
 "nbformat": 4,
 "nbformat_minor": 2
}
