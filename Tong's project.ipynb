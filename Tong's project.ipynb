{
 "cells": [
  {
   "cell_type": "code",
   "execution_count": 2,
   "metadata": {},
   "outputs": [],
   "source": [
    "raw_data = []"
   ]
  },
  {
   "cell_type": "code",
   "execution_count": 3,
   "metadata": {},
   "outputs": [
    {
     "name": "stdout",
     "output_type": "stream",
     "text": [
      ">U66059|TRBV10-1*01|Homo sapiens|F|V-REGION|214801..215087|287 nt|1| | | | |287+0=287| | |\n",
      "\n",
      "gatgctgaaatcacccagagcccaagacacaagatcacagagacaggaaggcaggtgaccttggcgtgtcaccagacttggaaccacaacaatatgttctggtatcgacaagacctgggacatgggctgaggctgatccattactcatatggtgttcaagacactaacaaaggagaagtctcagatggctacagtgtctctagatcaaacacagaggacctccccctcactctggagtctgctgcctcctcccagacatctgtatatttctgcgccagcagtgagtc\n",
      "\n",
      ">U17047|TRBV10-3*02|Homo sapiens|F|V-REGION|84..365|282 nt|1| | | | |282+0=282| Extended by 2 | |\n",
      "\n",
      "gctggaatcacccagagcccaagacacaaggtcacagagacaggaacaccagtgactctgagatgtcatcagactgagaaccaccgctatatgtactggtatcgacaagacccggggcatgggctgaggctgatccattactcatatggtgttaaagatactgacaaaggagaagtctcagatggctatagtgtctctagatcaaagacagaggatttcctcctcactctggagtccgctaccagctcccagacatctgtgtacttctgtgccatcagtgagtc\n",
      "\n",
      ">M33233|TRBV11-1*01|Homo sapiens|F|V-REGION|747..1036|290 nt|1| | | | |290+0=290| | |\n",
      "\n",
      "gaagctgaagttgcccagtcccccagatataagattacagagaaaagccaggctgtggctttttggtgtgatcctatttctggccatgctaccctttactggtaccggcagatcctgggacagggcccggagcttctggttcaatttcaggatgagagtgtagtagatgattcacagttgcctaaggatcgattttctgcagagaggctcaaaggagtagactccactctcaagatccagcctgcagagcttggggactcggccatgtatctctgtgccagcagcttagc\n",
      "\n"
     ]
    }
   ],
   "source": [
    "with open('V_genes.fasta','r') as file:\n",
    "    for line in file:\n",
    "        raw_data.append(line)\n",
    "        \n",
    "for r in raw_data: print(r)"
   ]
  },
  {
   "cell_type": "code",
   "execution_count": 4,
   "metadata": {},
   "outputs": [
    {
     "data": {
      "text/plain": [
       "['>U66059|TRBV10-1*01|Homo sapiens|F|V-REGION|214801..215087|287 nt|1| | | | |287+0=287| | |\\n',\n",
       " 'gatgctgaaatcacccagagcccaagacacaagatcacagagacaggaaggcaggtgaccttggcgtgtcaccagacttggaaccacaacaatatgttctggtatcgacaagacctgggacatgggctgaggctgatccattactcatatggtgttcaagacactaacaaaggagaagtctcagatggctacagtgtctctagatcaaacacagaggacctccccctcactctggagtctgctgcctcctcccagacatctgtatatttctgcgccagcagtgagtc\\n',\n",
       " '>U17047|TRBV10-3*02|Homo sapiens|F|V-REGION|84..365|282 nt|1| | | | |282+0=282| Extended by 2 | |\\n',\n",
       " 'gctggaatcacccagagcccaagacacaaggtcacagagacaggaacaccagtgactctgagatgtcatcagactgagaaccaccgctatatgtactggtatcgacaagacccggggcatgggctgaggctgatccattactcatatggtgttaaagatactgacaaaggagaagtctcagatggctatagtgtctctagatcaaagacagaggatttcctcctcactctggagtccgctaccagctcccagacatctgtgtacttctgtgccatcagtgagtc\\n',\n",
       " '>M33233|TRBV11-1*01|Homo sapiens|F|V-REGION|747..1036|290 nt|1| | | | |290+0=290| | |\\n',\n",
       " 'gaagctgaagttgcccagtcccccagatataagattacagagaaaagccaggctgtggctttttggtgtgatcctatttctggccatgctaccctttactggtaccggcagatcctgggacagggcccggagcttctggttcaatttcaggatgagagtgtagtagatgattcacagttgcctaaggatcgattttctgcagagaggctcaaaggagtagactccactctcaagatccagcctgcagagcttggggactcggccatgtatctctgtgccagcagcttagc\\n']"
      ]
     },
     "execution_count": 4,
     "metadata": {},
     "output_type": "execute_result"
    }
   ],
   "source": [
    "raw_data"
   ]
  },
  {
   "cell_type": "code",
   "execution_count": 5,
   "metadata": {},
   "outputs": [],
   "source": [
    "results = []\n",
    "for data in raw_data:\n",
    "    if data[0] is not '>':\n",
    "        results.append(data)\n",
    "        \n"
   ]
  },
  {
   "cell_type": "code",
   "execution_count": 6,
   "metadata": {},
   "outputs": [
    {
     "data": {
      "text/plain": [
       "['GATGCTGAAATCACCCAGAGCCCAAGACACAAGATCACAGAGACAGGAAGGCAGGTGACCTTGGCGTGTCACCAGACTTGGAACCACAACAATATGTTCTGGTATCGACAAGACCTGGGACATGGGCTGAGGCTGATCCATTACTCATATGGTGTTCAAGACACTAACAAAGGAGAAGTCTCAGATGGCTACAGTGTCTCTAGATCAAACACAGAGGACCTCCCCCTCACTCTGGAGTCTGCTGCCTCCTCCCAGACATCTGTATATTTCTGCGCCAGCAGTGAGT',\n",
       " 'GCTGGAATCACCCAGAGCCCAAGACACAAGGTCACAGAGACAGGAACACCAGTGACTCTGAGATGTCATCAGACTGAGAACCACCGCTATATGTACTGGTATCGACAAGACCCGGGGCATGGGCTGAGGCTGATCCATTACTCATATGGTGTTAAAGATACTGACAAAGGAGAAGTCTCAGATGGCTATAGTGTCTCTAGATCAAAGACAGAGGATTTCCTCCTCACTCTGGAGTCCGCTACCAGCTCCCAGACATCTGTGTACTTCTGTGCCATCAGTGAGT',\n",
       " 'GAAGCTGAAGTTGCCCAGTCCCCCAGATATAAGATTACAGAGAAAAGCCAGGCTGTGGCTTTTTGGTGTGATCCTATTTCTGGCCATGCTACCCTTTACTGGTACCGGCAGATCCTGGGACAGGGCCCGGAGCTTCTGGTTCAATTTCAGGATGAGAGTGTAGTAGATGATTCACAGTTGCCTAAGGATCGATTTTCTGCAGAGAGGCTCAAAGGAGTAGACTCCACTCTCAAGATCCAGCCTGCAGAGCTTGGGGACTCGGCCATGTATCTCTGTGCCAGCAGCTTAG']"
      ]
     },
     "execution_count": 6,
     "metadata": {},
     "output_type": "execute_result"
    }
   ],
   "source": [
    "for i,r in enumerate(results):\n",
    "    results[i] = r[:-2].upper()\n",
    "results"
   ]
  },
  {
   "cell_type": "code",
   "execution_count": 7,
   "metadata": {},
   "outputs": [
    {
     "data": {
      "text/plain": [
       "['GATGCTGAAATCACCCAGAGCCCAAGACACAAGATCACAGAGACAGGAAGGCAGGTGACCTTGGCGTGTCACCAGACTTGGAACCACAACAATATGTTCTGGTATCGACAAGACCTGGGACATGGGCTGAGGCTGATCCATTACTCATATGGTGTTCAAGACACTAACAAAGGAGAAGTCTCAGATGGCTACAGTGTCTCTAGATCAAACACAGAGGACCTCCCCCTCACTCTGGAGTCTGCTGCCTCCTCCCAGACATCTGTATATTTCTGCGCCAGCAGTGAGT',\n",
       " 'GCTGGAATCACCCAGAGCCCAAGACACAAGGTCACAGAGACAGGAACACCAGTGACTCTGAGATGTCATCAGACTGAGAACCACCGCTATATGTACTGGTATCGACAAGACCCGGGGCATGGGCTGAGGCTGATCCATTACTCATATGGTGTTAAAGATACTGACAAAGGAGAAGTCTCAGATGGCTATAGTGTCTCTAGATCAAAGACAGAGGATTTCCTCCTCACTCTGGAGTCCGCTACCAGCTCCCAGACATCTGTGTACTTCTGTGCCATCAGTGAGT',\n",
       " 'GAAGCTGAAGTTGCCCAGTCCCCCAGATATAAGATTACAGAGAAAAGCCAGGCTGTGGCTTTTTGGTGTGATCCTATTTCTGGCCATGCTACCCTTTACTGGTACCGGCAGATCCTGGGACAGGGCCCGGAGCTTCTGGTTCAATTTCAGGATGAGAGTGTAGTAGATGATTCACAGTTGCCTAAGGATCGATTTTCTGCAGAGAGGCTCAAAGGAGTAGACTCCACTCTCAAGATCCAGCCTGCAGAGCTTGGGGACTCGGCCATGTATCTCTGTGCCAGCAGCTTAG']"
      ]
     },
     "execution_count": 7,
     "metadata": {},
     "output_type": "execute_result"
    }
   ],
   "source": [
    "results_1 = [r[:-2].upper() for r in open('/Users/pc/Desktop/Fungi/V_genes.fasta','r') if r[0] is not '>']\n",
    "results_1"
   ]
  },
  {
   "cell_type": "code",
   "execution_count": 1,
   "metadata": {},
   "outputs": [],
   "source": [
    "import Bio\n"
   ]
  },
  {
   "cell_type": "code",
   "execution_count": 2,
   "metadata": {},
   "outputs": [],
   "source": [
    "from Bio.Seq import Seq\n",
    ">>> from Bio.Alphabet import generic_dna"
   ]
  },
  {
   "cell_type": "code",
   "execution_count": null,
   "metadata": {},
   "outputs": [],
   "source": []
  }
 ],
 "metadata": {
  "kernelspec": {
   "display_name": "Python 3",
   "language": "python",
   "name": "python3"
  },
  "language_info": {
   "codemirror_mode": {
    "name": "ipython",
    "version": 3
   },
   "file_extension": ".py",
   "mimetype": "text/x-python",
   "name": "python",
   "nbconvert_exporter": "python",
   "pygments_lexer": "ipython3",
   "version": "3.6.4"
  }
 },
 "nbformat": 4,
 "nbformat_minor": 2
}
